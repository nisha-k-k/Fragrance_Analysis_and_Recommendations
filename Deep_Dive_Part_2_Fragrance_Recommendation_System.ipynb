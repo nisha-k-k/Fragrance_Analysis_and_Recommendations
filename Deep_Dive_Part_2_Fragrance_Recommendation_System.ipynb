{
 "cells": [
  {
   "cell_type": "markdown",
   "id": "ce64ff30",
   "metadata": {},
   "source": [
    "# Deep Dive into Fragrances, Part 2: Fragrance Recommendations \n",
    "### Why this Project? \n",
    "This project is in two parts: An analysis of fragrance notes in various fragrances and user-preferred fragrance notes, and a recommendation system that gives 5 fragrance recommendations based on preferred fragrance notes. \n",
    "\n",
    "This project holds significant importance in the realm of data science and consumer preferences. By meticulously analyzing fragrance notes and comparing them to individual preferences, it provides valuable insights into the intricate world of scent preferences. This not only enhances our understanding of consumer behavior but also empowers businesses in the fragrance industry to tailor their offerings to specific demographics. Furthermore, the recommendation system introduces a personalized element, revolutionizing how consumers discover and select fragrances. This innovation has the potential to revolutionize the fragrance market, creating a more tailored and satisfying experience for consumers while offering businesses the opportunity to refine their product offerings. Overall, this project not only showcases the power of data-driven insights but also addresses a tangible need in a thriving industry.\n",
    "\n",
    "### Goal (For this Notebook)\n",
    "Create a Recommendation system that will recommend fragrances to users based on their fragrance note preferences.\n",
    "\n",
    "### Data Source (see previous notebook for more):\n",
    "Kaggle: <br>\n",
    "https://www.kaggle.com/datasets/nandini1999/perfume-recommendation-dataset\n",
    "\n",
    "Web Scraping/Information hard-coded from Fragrantica"
   ]
  },
  {
   "cell_type": "code",
   "execution_count": 53,
   "id": "60461fd4",
   "metadata": {
    "scrolled": true
   },
   "outputs": [],
   "source": [
    "#import dependencies\n",
    "import pandas as pd\n",
    "import numpy as np \n",
    "import sklearn \n",
    "import scipy\n",
    "import random\n",
    "from sklearn.feature_extraction.text import CountVectorizer\n",
    "from sklearn.metrics.pairwise import cosine_similarity\n",
    "\n",
    "pd.set_option('display.max_colwidth', None)"
   ]
  },
  {
   "cell_type": "code",
   "execution_count": 54,
   "id": "1bf997a2",
   "metadata": {
    "scrolled": true
   },
   "outputs": [
    {
     "data": {
      "text/plain": [
       "Index(['Unnamed: 0', 'Name', 'Brand', 'Description', 'Notes',\n",
       "       'extracted_notes', 'categories'],\n",
       "      dtype='object')"
      ]
     },
     "execution_count": 54,
     "metadata": {},
     "output_type": "execute_result"
    }
   ],
   "source": [
    "#import data\n",
    "df = pd.read_csv('full_perfume_data.csv')\n",
    "df.columns"
   ]
  },
  {
   "cell_type": "code",
   "execution_count": 55,
   "id": "9c2bbc04",
   "metadata": {
    "scrolled": true
   },
   "outputs": [],
   "source": [
    "df.drop(columns = ['Unnamed: 0'], inplace = True)"
   ]
  },
  {
   "cell_type": "code",
   "execution_count": 56,
   "id": "14ceef4a",
   "metadata": {
    "scrolled": true
   },
   "outputs": [
    {
     "data": {
      "text/html": [
       "<div>\n",
       "<style scoped>\n",
       "    .dataframe tbody tr th:only-of-type {\n",
       "        vertical-align: middle;\n",
       "    }\n",
       "\n",
       "    .dataframe tbody tr th {\n",
       "        vertical-align: top;\n",
       "    }\n",
       "\n",
       "    .dataframe thead th {\n",
       "        text-align: right;\n",
       "    }\n",
       "</style>\n",
       "<table border=\"1\" class=\"dataframe\">\n",
       "  <thead>\n",
       "    <tr style=\"text-align: right;\">\n",
       "      <th></th>\n",
       "      <th>Name</th>\n",
       "      <th>Brand</th>\n",
       "      <th>Description</th>\n",
       "      <th>Notes</th>\n",
       "      <th>extracted_notes</th>\n",
       "      <th>categories</th>\n",
       "    </tr>\n",
       "  </thead>\n",
       "  <tbody>\n",
       "    <tr>\n",
       "      <th>0</th>\n",
       "      <td>Tihota Eau de Parfum</td>\n",
       "      <td>Indult</td>\n",
       "      <td>Rapa Nui for sugar, Tihota is, quite simply, The One. The One that will call to you every moment you're not smelling it, The One that you've only had hints of in other vanilla perfumes, The One that lasts and lasts, The One that has perfectly captured the essence of the pure nature of fresh vanilla beans and has harnessed it beyond your wildest dreams. It inspires obsessive devotion with its fragrance of smooth, vanilla bean pods dipped in honeyed water and left to steep. The result is the pure magic, an unbridled vanilla, sweet, raw and achingly desirable. Of course, Tihota isn't the first perfume to focus on the dark sweetness of vanilla... perfumery is filled with vanillas, but this smells like the dream of a master perfumer who was obsessed with vanilla and was finally given free rein to worship the note with no apologies. It is, without a sliver of a doubt, the finest pure vanilla we've ever had the honor of carrying, and it's so beautiful it pains us to put the bottle down.</td>\n",
       "      <td>Vanilla bean, musks</td>\n",
       "      <td>Vanilla, Honey, Sugar, Fir, Water</td>\n",
       "      <td>['spice', 'sweet/gourmand']</td>\n",
       "    </tr>\n",
       "    <tr>\n",
       "      <th>1</th>\n",
       "      <td>Sola Parfum</td>\n",
       "      <td>Di Ser</td>\n",
       "      <td>A tribute to the expanse of space extending from the sky to the flower and fruit laden earth below, Sola, the newest offering from DI SER and perfumer Yasuyuki Shinohara, showcases the natural flora of Hokkaido, Japan with locally sourced and sustainably harvested ingredients from DI SERs own gardens. Starting with aromatic notes of freshly harvested Hokkaido lavender, lemongrass and yuzu, the uplifting scent moves to a floral middle of Japanese rose, magnolia, geranium and jasmine before settling on a spiritual bed of frankincense and myrrh. The spiritual and meditative scent evokes an imagery of a peaceful universe in complete harmony with the bounties of nature and of peace and contentment with its generous offerings.</td>\n",
       "      <td>Lavender, Yuzu, Lemongrass, Magnolia, Geranium, Jasmine, Frankincense, Myrrh</td>\n",
       "      <td>Lemon, Lemongrass, Yuzu, Pea, Geranium, Lavender, Magnolia, Rose, Jasmine, Aromatic Notes, Grass, Incense, Myrrh</td>\n",
       "      <td>['citrus']</td>\n",
       "    </tr>\n",
       "    <tr>\n",
       "      <th>2</th>\n",
       "      <td>Kagiroi Parfum</td>\n",
       "      <td>Di Ser</td>\n",
       "      <td>An aromatic ode to the ancient beauty of Japan, Kagiroi represents the changes in the shade of the dawn sky over the mountains of Hokkaido, Japan. As the dawn sky transitions through shades of purple, yellow, orange and red, this scent that showcases many ingredients used for the first time in perfumery transitions from an aromatic slightly spicy top to an earthy and woody base, representing the ebb and flow in the stages of life. The perfume opens with notes of Japanese herbs and citruses, moves to a slightly floral spicy middle and settles into a deep woody base accentuated by the use of the Hinoki cedar that dot the mountain landscapes. A deeply personal and spiritual scent, Kagiroi is a scent of shifting aromatic complexities representing transitions in the journey of life.Parfum Edition: We are honored and delighted to offer the rare and precious Parfum edition of Kagiroi, which adds to the composition a precious specimen of Japanese agarwood, which adds rich, spiritual dimensionality and a truly impressive and long-lasting drydown to this already complex and wonderful scent.</td>\n",
       "      <td>Green yuzu, green shikuwasa, sansho seed, coriander, ylang-ylang, shiso, rosewood, vetiver, hinoki, cypriol, patchouli, agarwood</td>\n",
       "      <td>Citruses, Orange, Cedar, Fir</td>\n",
       "      <td>['citrus']</td>\n",
       "    </tr>\n",
       "    <tr>\n",
       "      <th>3</th>\n",
       "      <td>Velvet Fantasy Eau de Parfum</td>\n",
       "      <td>Montale</td>\n",
       "      <td>Velvet Fantasy is a solar fragrance where citrus and velvety fruits mingle with the elegance of rose and the gourmand femininity of violet. Thereafter, incense unveils amber and white musk to create a bewitching and wild dance. What We Think A sweet and fruity fragrance with a rich long lasting warmth. Like a decadent dessert, it starts off bringing together the bright freshness of the tangerine with some sweet berry and apple notes and the creaminess of the toffee and vanilla. The fragrance smoothly transitions into a deliciously bold blend of amber, leather, sweet vanilla and creamy woods. Absolutely mouthwatering.</td>\n",
       "      <td>tangerine,  pink pepper,  black coffee,  leather,  violet,  jasmine,  lily of the valley,  heliotrope powder,  vanilla,  amber, sandalwood,  toffee,  musk,  oakmoss</td>\n",
       "      <td>Tangerine, Apple, Rose, Violet, Vanilla, Cream, Toffee, Incense, Amber, Leather, Musk, Gin, Ink, Velvet, Water</td>\n",
       "      <td>['citrus', 'fruit/vegetable']</td>\n",
       "    </tr>\n",
       "    <tr>\n",
       "      <th>4</th>\n",
       "      <td>A Blvd. Called Sunset Eau de Parfum</td>\n",
       "      <td>A Lab on Fire</td>\n",
       "      <td>There's no way A Lab On Fire could relocate to Los Angeles and not pay tribute to L.A.'s most iconic Boulevard, home to the legendary neon-drenched rock stages of the Strip, the crashing waves of the Palisades, and everything in between. The result is A Blvd. Called Sunset, a bright, fresh, just the right amount of edgy journey across our wild and beautiful city. Bright, fresh bergamot sparkles in a smooth, salty, almond-inflected breeze, while a masculine leaning-floral blend of violet and jasmine combines with a leather that evokes the biker bars and metal clubs so famously captured in Ed Ruscha's seminal photo book. A smooth, intoxicating base of sandalwood, vanilla, and tonka goes down like a perfect mixed drink, comforting and sensual all at once. If you ever get a chance to take a trip down Sunset, there's nothing like it in the world. But the next best thing is a day spent wearing A Blvd. Called Sunset- a perfect tribute to the heart and soul of Los Angeles.</td>\n",
       "      <td>Bergamot, almond, violet, jasmine, leather, sandalwood, vanilla, tonka</td>\n",
       "      <td>Bergamot, Almond, Violet, Jasmine, Vanilla, Fir, Sandalwood, Leather, Ash, Fire, Ink, Salt, Sand</td>\n",
       "      <td>['citrus', 'nut']</td>\n",
       "    </tr>\n",
       "  </tbody>\n",
       "</table>\n",
       "</div>"
      ],
      "text/plain": [
       "                                  Name          Brand  \\\n",
       "0                 Tihota Eau de Parfum         Indult   \n",
       "1                          Sola Parfum         Di Ser   \n",
       "2                       Kagiroi Parfum         Di Ser   \n",
       "3         Velvet Fantasy Eau de Parfum        Montale   \n",
       "4  A Blvd. Called Sunset Eau de Parfum  A Lab on Fire   \n",
       "\n",
       "                                                                                                                                                                                                                                                                                                                                                                                                                                                                                                                                                                                                                                                                                                                                                                                                                                                                                                                                                                                                                                                                                                                                 Description  \\\n",
       "0                                                                                                         Rapa Nui for sugar, Tihota is, quite simply, The One. The One that will call to you every moment you're not smelling it, The One that you've only had hints of in other vanilla perfumes, The One that lasts and lasts, The One that has perfectly captured the essence of the pure nature of fresh vanilla beans and has harnessed it beyond your wildest dreams. It inspires obsessive devotion with its fragrance of smooth, vanilla bean pods dipped in honeyed water and left to steep. The result is the pure magic, an unbridled vanilla, sweet, raw and achingly desirable. Of course, Tihota isn't the first perfume to focus on the dark sweetness of vanilla... perfumery is filled with vanillas, but this smells like the dream of a master perfumer who was obsessed with vanilla and was finally given free rein to worship the note with no apologies. It is, without a sliver of a doubt, the finest pure vanilla we've ever had the honor of carrying, and it's so beautiful it pains us to put the bottle down.   \n",
       "1                                                                                                                                                                                                                                                                                                                                                                                 A tribute to the expanse of space extending from the sky to the flower and fruit laden earth below, Sola, the newest offering from DI SER and perfumer Yasuyuki Shinohara, showcases the natural flora of Hokkaido, Japan with locally sourced and sustainably harvested ingredients from DI SERs own gardens. Starting with aromatic notes of freshly harvested Hokkaido lavender, lemongrass and yuzu, the uplifting scent moves to a floral middle of Japanese rose, magnolia, geranium and jasmine before settling on a spiritual bed of frankincense and myrrh. The spiritual and meditative scent evokes an imagery of a peaceful universe in complete harmony with the bounties of nature and of peace and contentment with its generous offerings.   \n",
       "2  An aromatic ode to the ancient beauty of Japan, Kagiroi represents the changes in the shade of the dawn sky over the mountains of Hokkaido, Japan. As the dawn sky transitions through shades of purple, yellow, orange and red, this scent that showcases many ingredients used for the first time in perfumery transitions from an aromatic slightly spicy top to an earthy and woody base, representing the ebb and flow in the stages of life. The perfume opens with notes of Japanese herbs and citruses, moves to a slightly floral spicy middle and settles into a deep woody base accentuated by the use of the Hinoki cedar that dot the mountain landscapes. A deeply personal and spiritual scent, Kagiroi is a scent of shifting aromatic complexities representing transitions in the journey of life.Parfum Edition: We are honored and delighted to offer the rare and precious Parfum edition of Kagiroi, which adds to the composition a precious specimen of Japanese agarwood, which adds rich, spiritual dimensionality and a truly impressive and long-lasting drydown to this already complex and wonderful scent.   \n",
       "3                                                                                                                                                                                                                                                                                                                                                                                                                                                                                           Velvet Fantasy is a solar fragrance where citrus and velvety fruits mingle with the elegance of rose and the gourmand femininity of violet. Thereafter, incense unveils amber and white musk to create a bewitching and wild dance. What We Think A sweet and fruity fragrance with a rich long lasting warmth. Like a decadent dessert, it starts off bringing together the bright freshness of the tangerine with some sweet berry and apple notes and the creaminess of the toffee and vanilla. The fragrance smoothly transitions into a deliciously bold blend of amber, leather, sweet vanilla and creamy woods. Absolutely mouthwatering.   \n",
       "4                                                                                                                        There's no way A Lab On Fire could relocate to Los Angeles and not pay tribute to L.A.'s most iconic Boulevard, home to the legendary neon-drenched rock stages of the Strip, the crashing waves of the Palisades, and everything in between. The result is A Blvd. Called Sunset, a bright, fresh, just the right amount of edgy journey across our wild and beautiful city. Bright, fresh bergamot sparkles in a smooth, salty, almond-inflected breeze, while a masculine leaning-floral blend of violet and jasmine combines with a leather that evokes the biker bars and metal clubs so famously captured in Ed Ruscha's seminal photo book. A smooth, intoxicating base of sandalwood, vanilla, and tonka goes down like a perfect mixed drink, comforting and sensual all at once. If you ever get a chance to take a trip down Sunset, there's nothing like it in the world. But the next best thing is a day spent wearing A Blvd. Called Sunset- a perfect tribute to the heart and soul of Los Angeles.   \n",
       "\n",
       "                                                                                                                                                                  Notes  \\\n",
       "0                                                                                                                                                   Vanilla bean, musks   \n",
       "1                                                                                          Lavender, Yuzu, Lemongrass, Magnolia, Geranium, Jasmine, Frankincense, Myrrh   \n",
       "2                                      Green yuzu, green shikuwasa, sansho seed, coriander, ylang-ylang, shiso, rosewood, vetiver, hinoki, cypriol, patchouli, agarwood   \n",
       "3  tangerine,  pink pepper,  black coffee,  leather,  violet,  jasmine,  lily of the valley,  heliotrope powder,  vanilla,  amber, sandalwood,  toffee,  musk,  oakmoss   \n",
       "4                                                                                                Bergamot, almond, violet, jasmine, leather, sandalwood, vanilla, tonka   \n",
       "\n",
       "                                                                                                    extracted_notes  \\\n",
       "0                                                                                 Vanilla, Honey, Sugar, Fir, Water   \n",
       "1  Lemon, Lemongrass, Yuzu, Pea, Geranium, Lavender, Magnolia, Rose, Jasmine, Aromatic Notes, Grass, Incense, Myrrh   \n",
       "2                                                                                      Citruses, Orange, Cedar, Fir   \n",
       "3    Tangerine, Apple, Rose, Violet, Vanilla, Cream, Toffee, Incense, Amber, Leather, Musk, Gin, Ink, Velvet, Water   \n",
       "4                  Bergamot, Almond, Violet, Jasmine, Vanilla, Fir, Sandalwood, Leather, Ash, Fire, Ink, Salt, Sand   \n",
       "\n",
       "                      categories  \n",
       "0    ['spice', 'sweet/gourmand']  \n",
       "1                     ['citrus']  \n",
       "2                     ['citrus']  \n",
       "3  ['citrus', 'fruit/vegetable']  \n",
       "4              ['citrus', 'nut']  "
      ]
     },
     "execution_count": 56,
     "metadata": {},
     "output_type": "execute_result"
    }
   ],
   "source": [
    "df.head()"
   ]
  },
  {
   "cell_type": "code",
   "execution_count": 57,
   "id": "1e177989",
   "metadata": {
    "scrolled": true
   },
   "outputs": [
    {
     "data": {
      "text/plain": [
       "'Vanilla bean, musks'"
      ]
     },
     "execution_count": 57,
     "metadata": {},
     "output_type": "execute_result"
    }
   ],
   "source": [
    "#fix the notes column setup so that there's no leading whitespace\n",
    "df = df.applymap(lambda x: x.lstrip() if isinstance(x, str) else x)\n",
    "df['Notes'].loc[0] #Check to see if it works"
   ]
  },
  {
   "cell_type": "code",
   "execution_count": 58,
   "id": "2c93b9c1",
   "metadata": {
    "scrolled": true
   },
   "outputs": [
    {
     "data": {
      "text/plain": [
       "Name                0\n",
       "Brand               0\n",
       "Description         0\n",
       "Notes               9\n",
       "extracted_notes    18\n",
       "categories          2\n",
       "dtype: int64"
      ]
     },
     "execution_count": 58,
     "metadata": {},
     "output_type": "execute_result"
    }
   ],
   "source": [
    "df.isna().sum()"
   ]
  },
  {
   "cell_type": "code",
   "execution_count": 59,
   "id": "3eb0d6cf",
   "metadata": {
    "scrolled": true
   },
   "outputs": [],
   "source": [
    "df.dropna(inplace = True)"
   ]
  },
  {
   "cell_type": "code",
   "execution_count": 60,
   "id": "af027896",
   "metadata": {
    "scrolled": true
   },
   "outputs": [
    {
     "data": {
      "text/plain": [
       "Name               0\n",
       "Brand              0\n",
       "Description        0\n",
       "Notes              0\n",
       "extracted_notes    0\n",
       "categories         0\n",
       "dtype: int64"
      ]
     },
     "execution_count": 60,
     "metadata": {},
     "output_type": "execute_result"
    }
   ],
   "source": [
    "df.isna().sum()"
   ]
  },
  {
   "cell_type": "code",
   "execution_count": 61,
   "id": "9eba457d",
   "metadata": {
    "scrolled": true
   },
   "outputs": [],
   "source": [
    "df['Notes_list'] = df['Notes'].apply(lambda x: x.split(','))"
   ]
  },
  {
   "cell_type": "code",
   "execution_count": 62,
   "id": "cca22a69",
   "metadata": {
    "scrolled": true
   },
   "outputs": [],
   "source": [
    "df['extracted_list'] = df['extracted_notes'].apply(lambda x: x.split(','))"
   ]
  },
  {
   "cell_type": "code",
   "execution_count": 63,
   "id": "9d3cdc32",
   "metadata": {
    "scrolled": true
   },
   "outputs": [
    {
     "data": {
      "text/html": [
       "<div>\n",
       "<style scoped>\n",
       "    .dataframe tbody tr th:only-of-type {\n",
       "        vertical-align: middle;\n",
       "    }\n",
       "\n",
       "    .dataframe tbody tr th {\n",
       "        vertical-align: top;\n",
       "    }\n",
       "\n",
       "    .dataframe thead th {\n",
       "        text-align: right;\n",
       "    }\n",
       "</style>\n",
       "<table border=\"1\" class=\"dataframe\">\n",
       "  <thead>\n",
       "    <tr style=\"text-align: right;\">\n",
       "      <th></th>\n",
       "      <th>Name</th>\n",
       "      <th>Brand</th>\n",
       "      <th>Description</th>\n",
       "      <th>Notes</th>\n",
       "      <th>extracted_notes</th>\n",
       "      <th>categories</th>\n",
       "      <th>Notes_list</th>\n",
       "      <th>extracted_list</th>\n",
       "    </tr>\n",
       "  </thead>\n",
       "  <tbody>\n",
       "    <tr>\n",
       "      <th>0</th>\n",
       "      <td>Tihota Eau de Parfum</td>\n",
       "      <td>Indult</td>\n",
       "      <td>Rapa Nui for sugar, Tihota is, quite simply, The One. The One that will call to you every moment you're not smelling it, The One that you've only had hints of in other vanilla perfumes, The One that lasts and lasts, The One that has perfectly captured the essence of the pure nature of fresh vanilla beans and has harnessed it beyond your wildest dreams. It inspires obsessive devotion with its fragrance of smooth, vanilla bean pods dipped in honeyed water and left to steep. The result is the pure magic, an unbridled vanilla, sweet, raw and achingly desirable. Of course, Tihota isn't the first perfume to focus on the dark sweetness of vanilla... perfumery is filled with vanillas, but this smells like the dream of a master perfumer who was obsessed with vanilla and was finally given free rein to worship the note with no apologies. It is, without a sliver of a doubt, the finest pure vanilla we've ever had the honor of carrying, and it's so beautiful it pains us to put the bottle down.</td>\n",
       "      <td>Vanilla bean, musks</td>\n",
       "      <td>Vanilla, Honey, Sugar, Fir, Water</td>\n",
       "      <td>['spice', 'sweet/gourmand']</td>\n",
       "      <td>[Vanilla bean,  musks]</td>\n",
       "      <td>[Vanilla,  Honey,  Sugar,  Fir,  Water]</td>\n",
       "    </tr>\n",
       "    <tr>\n",
       "      <th>1</th>\n",
       "      <td>Sola Parfum</td>\n",
       "      <td>Di Ser</td>\n",
       "      <td>A tribute to the expanse of space extending from the sky to the flower and fruit laden earth below, Sola, the newest offering from DI SER and perfumer Yasuyuki Shinohara, showcases the natural flora of Hokkaido, Japan with locally sourced and sustainably harvested ingredients from DI SERs own gardens. Starting with aromatic notes of freshly harvested Hokkaido lavender, lemongrass and yuzu, the uplifting scent moves to a floral middle of Japanese rose, magnolia, geranium and jasmine before settling on a spiritual bed of frankincense and myrrh. The spiritual and meditative scent evokes an imagery of a peaceful universe in complete harmony with the bounties of nature and of peace and contentment with its generous offerings.</td>\n",
       "      <td>Lavender, Yuzu, Lemongrass, Magnolia, Geranium, Jasmine, Frankincense, Myrrh</td>\n",
       "      <td>Lemon, Lemongrass, Yuzu, Pea, Geranium, Lavender, Magnolia, Rose, Jasmine, Aromatic Notes, Grass, Incense, Myrrh</td>\n",
       "      <td>['citrus']</td>\n",
       "      <td>[Lavender,  Yuzu,  Lemongrass,  Magnolia,  Geranium,  Jasmine,  Frankincense,  Myrrh]</td>\n",
       "      <td>[Lemon,  Lemongrass,  Yuzu,  Pea,  Geranium,  Lavender,  Magnolia,  Rose,  Jasmine,  Aromatic Notes,  Grass,  Incense,  Myrrh]</td>\n",
       "    </tr>\n",
       "    <tr>\n",
       "      <th>2</th>\n",
       "      <td>Kagiroi Parfum</td>\n",
       "      <td>Di Ser</td>\n",
       "      <td>An aromatic ode to the ancient beauty of Japan, Kagiroi represents the changes in the shade of the dawn sky over the mountains of Hokkaido, Japan. As the dawn sky transitions through shades of purple, yellow, orange and red, this scent that showcases many ingredients used for the first time in perfumery transitions from an aromatic slightly spicy top to an earthy and woody base, representing the ebb and flow in the stages of life. The perfume opens with notes of Japanese herbs and citruses, moves to a slightly floral spicy middle and settles into a deep woody base accentuated by the use of the Hinoki cedar that dot the mountain landscapes. A deeply personal and spiritual scent, Kagiroi is a scent of shifting aromatic complexities representing transitions in the journey of life.Parfum Edition: We are honored and delighted to offer the rare and precious Parfum edition of Kagiroi, which adds to the composition a precious specimen of Japanese agarwood, which adds rich, spiritual dimensionality and a truly impressive and long-lasting drydown to this already complex and wonderful scent.</td>\n",
       "      <td>Green yuzu, green shikuwasa, sansho seed, coriander, ylang-ylang, shiso, rosewood, vetiver, hinoki, cypriol, patchouli, agarwood</td>\n",
       "      <td>Citruses, Orange, Cedar, Fir</td>\n",
       "      <td>['citrus']</td>\n",
       "      <td>[Green yuzu,  green shikuwasa,  sansho seed,  coriander,  ylang-ylang,  shiso,  rosewood,  vetiver,  hinoki,  cypriol,  patchouli,  agarwood]</td>\n",
       "      <td>[Citruses,  Orange,  Cedar,  Fir]</td>\n",
       "    </tr>\n",
       "    <tr>\n",
       "      <th>3</th>\n",
       "      <td>Velvet Fantasy Eau de Parfum</td>\n",
       "      <td>Montale</td>\n",
       "      <td>Velvet Fantasy is a solar fragrance where citrus and velvety fruits mingle with the elegance of rose and the gourmand femininity of violet. Thereafter, incense unveils amber and white musk to create a bewitching and wild dance. What We Think A sweet and fruity fragrance with a rich long lasting warmth. Like a decadent dessert, it starts off bringing together the bright freshness of the tangerine with some sweet berry and apple notes and the creaminess of the toffee and vanilla. The fragrance smoothly transitions into a deliciously bold blend of amber, leather, sweet vanilla and creamy woods. Absolutely mouthwatering.</td>\n",
       "      <td>tangerine,  pink pepper,  black coffee,  leather,  violet,  jasmine,  lily of the valley,  heliotrope powder,  vanilla,  amber, sandalwood,  toffee,  musk,  oakmoss</td>\n",
       "      <td>Tangerine, Apple, Rose, Violet, Vanilla, Cream, Toffee, Incense, Amber, Leather, Musk, Gin, Ink, Velvet, Water</td>\n",
       "      <td>['citrus', 'fruit/vegetable']</td>\n",
       "      <td>[tangerine,   pink pepper,   black coffee,   leather,   violet,   jasmine,   lily of the valley,   heliotrope powder,   vanilla,   amber,  sandalwood,   toffee,   musk,   oakmoss]</td>\n",
       "      <td>[Tangerine,  Apple,  Rose,  Violet,  Vanilla,  Cream,  Toffee,  Incense,  Amber,  Leather,  Musk,  Gin,  Ink,  Velvet,  Water]</td>\n",
       "    </tr>\n",
       "    <tr>\n",
       "      <th>4</th>\n",
       "      <td>A Blvd. Called Sunset Eau de Parfum</td>\n",
       "      <td>A Lab on Fire</td>\n",
       "      <td>There's no way A Lab On Fire could relocate to Los Angeles and not pay tribute to L.A.'s most iconic Boulevard, home to the legendary neon-drenched rock stages of the Strip, the crashing waves of the Palisades, and everything in between. The result is A Blvd. Called Sunset, a bright, fresh, just the right amount of edgy journey across our wild and beautiful city. Bright, fresh bergamot sparkles in a smooth, salty, almond-inflected breeze, while a masculine leaning-floral blend of violet and jasmine combines with a leather that evokes the biker bars and metal clubs so famously captured in Ed Ruscha's seminal photo book. A smooth, intoxicating base of sandalwood, vanilla, and tonka goes down like a perfect mixed drink, comforting and sensual all at once. If you ever get a chance to take a trip down Sunset, there's nothing like it in the world. But the next best thing is a day spent wearing A Blvd. Called Sunset- a perfect tribute to the heart and soul of Los Angeles.</td>\n",
       "      <td>Bergamot, almond, violet, jasmine, leather, sandalwood, vanilla, tonka</td>\n",
       "      <td>Bergamot, Almond, Violet, Jasmine, Vanilla, Fir, Sandalwood, Leather, Ash, Fire, Ink, Salt, Sand</td>\n",
       "      <td>['citrus', 'nut']</td>\n",
       "      <td>[Bergamot,  almond,  violet,  jasmine,  leather,  sandalwood,  vanilla,  tonka]</td>\n",
       "      <td>[Bergamot,  Almond,  Violet,  Jasmine,  Vanilla,  Fir,  Sandalwood,  Leather,  Ash,  Fire,  Ink,  Salt,  Sand]</td>\n",
       "    </tr>\n",
       "  </tbody>\n",
       "</table>\n",
       "</div>"
      ],
      "text/plain": [
       "                                  Name          Brand  \\\n",
       "0                 Tihota Eau de Parfum         Indult   \n",
       "1                          Sola Parfum         Di Ser   \n",
       "2                       Kagiroi Parfum         Di Ser   \n",
       "3         Velvet Fantasy Eau de Parfum        Montale   \n",
       "4  A Blvd. Called Sunset Eau de Parfum  A Lab on Fire   \n",
       "\n",
       "                                                                                                                                                                                                                                                                                                                                                                                                                                                                                                                                                                                                                                                                                                                                                                                                                                                                                                                                                                                                                                                                                                                                 Description  \\\n",
       "0                                                                                                         Rapa Nui for sugar, Tihota is, quite simply, The One. The One that will call to you every moment you're not smelling it, The One that you've only had hints of in other vanilla perfumes, The One that lasts and lasts, The One that has perfectly captured the essence of the pure nature of fresh vanilla beans and has harnessed it beyond your wildest dreams. It inspires obsessive devotion with its fragrance of smooth, vanilla bean pods dipped in honeyed water and left to steep. The result is the pure magic, an unbridled vanilla, sweet, raw and achingly desirable. Of course, Tihota isn't the first perfume to focus on the dark sweetness of vanilla... perfumery is filled with vanillas, but this smells like the dream of a master perfumer who was obsessed with vanilla and was finally given free rein to worship the note with no apologies. It is, without a sliver of a doubt, the finest pure vanilla we've ever had the honor of carrying, and it's so beautiful it pains us to put the bottle down.   \n",
       "1                                                                                                                                                                                                                                                                                                                                                                                 A tribute to the expanse of space extending from the sky to the flower and fruit laden earth below, Sola, the newest offering from DI SER and perfumer Yasuyuki Shinohara, showcases the natural flora of Hokkaido, Japan with locally sourced and sustainably harvested ingredients from DI SERs own gardens. Starting with aromatic notes of freshly harvested Hokkaido lavender, lemongrass and yuzu, the uplifting scent moves to a floral middle of Japanese rose, magnolia, geranium and jasmine before settling on a spiritual bed of frankincense and myrrh. The spiritual and meditative scent evokes an imagery of a peaceful universe in complete harmony with the bounties of nature and of peace and contentment with its generous offerings.   \n",
       "2  An aromatic ode to the ancient beauty of Japan, Kagiroi represents the changes in the shade of the dawn sky over the mountains of Hokkaido, Japan. As the dawn sky transitions through shades of purple, yellow, orange and red, this scent that showcases many ingredients used for the first time in perfumery transitions from an aromatic slightly spicy top to an earthy and woody base, representing the ebb and flow in the stages of life. The perfume opens with notes of Japanese herbs and citruses, moves to a slightly floral spicy middle and settles into a deep woody base accentuated by the use of the Hinoki cedar that dot the mountain landscapes. A deeply personal and spiritual scent, Kagiroi is a scent of shifting aromatic complexities representing transitions in the journey of life.Parfum Edition: We are honored and delighted to offer the rare and precious Parfum edition of Kagiroi, which adds to the composition a precious specimen of Japanese agarwood, which adds rich, spiritual dimensionality and a truly impressive and long-lasting drydown to this already complex and wonderful scent.   \n",
       "3                                                                                                                                                                                                                                                                                                                                                                                                                                                                                           Velvet Fantasy is a solar fragrance where citrus and velvety fruits mingle with the elegance of rose and the gourmand femininity of violet. Thereafter, incense unveils amber and white musk to create a bewitching and wild dance. What We Think A sweet and fruity fragrance with a rich long lasting warmth. Like a decadent dessert, it starts off bringing together the bright freshness of the tangerine with some sweet berry and apple notes and the creaminess of the toffee and vanilla. The fragrance smoothly transitions into a deliciously bold blend of amber, leather, sweet vanilla and creamy woods. Absolutely mouthwatering.   \n",
       "4                                                                                                                        There's no way A Lab On Fire could relocate to Los Angeles and not pay tribute to L.A.'s most iconic Boulevard, home to the legendary neon-drenched rock stages of the Strip, the crashing waves of the Palisades, and everything in between. The result is A Blvd. Called Sunset, a bright, fresh, just the right amount of edgy journey across our wild and beautiful city. Bright, fresh bergamot sparkles in a smooth, salty, almond-inflected breeze, while a masculine leaning-floral blend of violet and jasmine combines with a leather that evokes the biker bars and metal clubs so famously captured in Ed Ruscha's seminal photo book. A smooth, intoxicating base of sandalwood, vanilla, and tonka goes down like a perfect mixed drink, comforting and sensual all at once. If you ever get a chance to take a trip down Sunset, there's nothing like it in the world. But the next best thing is a day spent wearing A Blvd. Called Sunset- a perfect tribute to the heart and soul of Los Angeles.   \n",
       "\n",
       "                                                                                                                                                                  Notes  \\\n",
       "0                                                                                                                                                   Vanilla bean, musks   \n",
       "1                                                                                          Lavender, Yuzu, Lemongrass, Magnolia, Geranium, Jasmine, Frankincense, Myrrh   \n",
       "2                                      Green yuzu, green shikuwasa, sansho seed, coriander, ylang-ylang, shiso, rosewood, vetiver, hinoki, cypriol, patchouli, agarwood   \n",
       "3  tangerine,  pink pepper,  black coffee,  leather,  violet,  jasmine,  lily of the valley,  heliotrope powder,  vanilla,  amber, sandalwood,  toffee,  musk,  oakmoss   \n",
       "4                                                                                                Bergamot, almond, violet, jasmine, leather, sandalwood, vanilla, tonka   \n",
       "\n",
       "                                                                                                    extracted_notes  \\\n",
       "0                                                                                 Vanilla, Honey, Sugar, Fir, Water   \n",
       "1  Lemon, Lemongrass, Yuzu, Pea, Geranium, Lavender, Magnolia, Rose, Jasmine, Aromatic Notes, Grass, Incense, Myrrh   \n",
       "2                                                                                      Citruses, Orange, Cedar, Fir   \n",
       "3    Tangerine, Apple, Rose, Violet, Vanilla, Cream, Toffee, Incense, Amber, Leather, Musk, Gin, Ink, Velvet, Water   \n",
       "4                  Bergamot, Almond, Violet, Jasmine, Vanilla, Fir, Sandalwood, Leather, Ash, Fire, Ink, Salt, Sand   \n",
       "\n",
       "                      categories  \\\n",
       "0    ['spice', 'sweet/gourmand']   \n",
       "1                     ['citrus']   \n",
       "2                     ['citrus']   \n",
       "3  ['citrus', 'fruit/vegetable']   \n",
       "4              ['citrus', 'nut']   \n",
       "\n",
       "                                                                                                                                                                            Notes_list  \\\n",
       "0                                                                                                                                                               [Vanilla bean,  musks]   \n",
       "1                                                                                                [Lavender,  Yuzu,  Lemongrass,  Magnolia,  Geranium,  Jasmine,  Frankincense,  Myrrh]   \n",
       "2                                        [Green yuzu,  green shikuwasa,  sansho seed,  coriander,  ylang-ylang,  shiso,  rosewood,  vetiver,  hinoki,  cypriol,  patchouli,  agarwood]   \n",
       "3  [tangerine,   pink pepper,   black coffee,   leather,   violet,   jasmine,   lily of the valley,   heliotrope powder,   vanilla,   amber,  sandalwood,   toffee,   musk,   oakmoss]   \n",
       "4                                                                                                      [Bergamot,  almond,  violet,  jasmine,  leather,  sandalwood,  vanilla,  tonka]   \n",
       "\n",
       "                                                                                                                   extracted_list  \n",
       "0                                                                                         [Vanilla,  Honey,  Sugar,  Fir,  Water]  \n",
       "1  [Lemon,  Lemongrass,  Yuzu,  Pea,  Geranium,  Lavender,  Magnolia,  Rose,  Jasmine,  Aromatic Notes,  Grass,  Incense,  Myrrh]  \n",
       "2                                                                                               [Citruses,  Orange,  Cedar,  Fir]  \n",
       "3  [Tangerine,  Apple,  Rose,  Violet,  Vanilla,  Cream,  Toffee,  Incense,  Amber,  Leather,  Musk,  Gin,  Ink,  Velvet,  Water]  \n",
       "4                  [Bergamot,  Almond,  Violet,  Jasmine,  Vanilla,  Fir,  Sandalwood,  Leather,  Ash,  Fire,  Ink,  Salt,  Sand]  "
      ]
     },
     "execution_count": 63,
     "metadata": {},
     "output_type": "execute_result"
    }
   ],
   "source": [
    "df.head()"
   ]
  },
  {
   "cell_type": "code",
   "execution_count": 64,
   "id": "f3a57b18",
   "metadata": {},
   "outputs": [],
   "source": [
    "#df['Brand'].unique()"
   ]
  },
  {
   "cell_type": "code",
   "execution_count": 65,
   "id": "dfa0cd63",
   "metadata": {},
   "outputs": [],
   "source": [
    "#df[df['Brand'] == 'Phlur']"
   ]
  },
  {
   "cell_type": "markdown",
   "id": "f646c4f9",
   "metadata": {},
   "source": [
    "Now, go through the extracted notes and notes lists, and get a list of all of the notes together (actually, make it a set for distinct values). Use these notes to get the notes of interest. <br> \n",
    "\n",
    "MAYBE only use extracted lists, because those are from the descriptions and are really what the brands want the consumer to focus on (those should be the notes that \"stick out\" the most"
   ]
  },
  {
   "cell_type": "code",
   "execution_count": 66,
   "id": "4bfa2a65",
   "metadata": {
    "scrolled": true
   },
   "outputs": [],
   "source": [
    "#get all the notes found in \"extracted_list\" column, and all the notes found in \"notes_list\" columns\n",
    "def get_all_notes(df): \n",
    "    og_notes = df['Notes_list']\n",
    "    extracted_notes = df['extracted_list']\n",
    "    \n",
    "    all_notes_og = []\n",
    "    all_notes_ex = []\n",
    "    \n",
    "    for og_lst in og_notes: #for each list in the og notes column\n",
    "        for og_note in og_lst: #for each note in the list\n",
    "            og_note = og_note.lstrip()\n",
    "            if og_note not in all_notes_og: \n",
    "                all_notes_og.append(og_note)\n",
    "                \n",
    "    for ex_lst in extracted_notes: \n",
    "        for ex_note in ex_lst: \n",
    "            ex_note = ex_note.lstrip()\n",
    "            if ex_note not in all_notes_ex: \n",
    "                all_notes_ex.append(ex_note)\n",
    "                \n",
    "    return all_notes_og, all_notes_ex\n"
   ]
  },
  {
   "cell_type": "code",
   "execution_count": 67,
   "id": "af107033",
   "metadata": {
    "scrolled": false
   },
   "outputs": [],
   "source": [
    "#get_all_notes(df)[1]"
   ]
  },
  {
   "cell_type": "code",
   "execution_count": 68,
   "id": "0d80bef4",
   "metadata": {
    "scrolled": true
   },
   "outputs": [
    {
     "data": {
      "text/plain": [
       "631"
      ]
     },
     "execution_count": 68,
     "metadata": {},
     "output_type": "execute_result"
    }
   ],
   "source": [
    "len(get_all_notes(df)[1])"
   ]
  },
  {
   "cell_type": "code",
   "execution_count": 69,
   "id": "2701c2a7",
   "metadata": {
    "scrolled": true
   },
   "outputs": [
    {
     "data": {
      "text/plain": [
       "4001"
      ]
     },
     "execution_count": 69,
     "metadata": {},
     "output_type": "execute_result"
    }
   ],
   "source": [
    "len(get_all_notes(df)[0])"
   ]
  },
  {
   "cell_type": "markdown",
   "id": "edafff5a",
   "metadata": {},
   "source": [
    "General outline of how I want this recommendation system set up: <br> \n",
    "1. Ask user which note category are they interested in\n",
    "2. Ask the user which specific notes in the category they are interested in, add the note to a list\n",
    "3. Then ask the user if they want to add more notes; if 'yes', then let them choose a category and then let them choose the note from that category. Add this note to the list. \n",
    "4. Repeat #3 for a set amount of times\n",
    "5. Use cosine similarity to combine the accumulated list of user's preferred notes to each fragrances's list of notes\n",
    "6. Output the top 5 fragrances that have the highest cosine similarity values. \n",
    "    * Output the Name of the fragrance (including the brand), the notes in the fragrance, and the cosine similarity score \n",
    "7. If a user has tried one of the fragrances, ask if they would like to provide feedback. If yes, store the feedback\n",
    " \n"
   ]
  },
  {
   "cell_type": "markdown",
   "id": "e4191c29",
   "metadata": {},
   "source": [
    "Before doing the above, first I want to create a new dictionary containing the same keys as the categories dictionary I imported, and have only the values that are present in the fragrances dataframe. By doing this, it is easier to match the chosen notes with a fragrance present in the dataframe. "
   ]
  },
  {
   "cell_type": "code",
   "execution_count": 70,
   "id": "c31a4a42",
   "metadata": {
    "scrolled": true
   },
   "outputs": [],
   "source": [
    "import json \n",
    "\n",
    "with open('fragrance_categories.json') as frags: \n",
    "    frag_categories = json.load(frags)"
   ]
  },
  {
   "cell_type": "code",
   "execution_count": 71,
   "id": "d3b87195",
   "metadata": {
    "scrolled": true
   },
   "outputs": [],
   "source": [
    "all_notes_in_frag_df = get_all_notes(df)[0]\n",
    "\n",
    "new_dict = {}\n",
    "for k, v in frag_categories.items():\n",
    "    new_list = []\n",
    "    for note in all_notes_in_frag_df: \n",
    "        if note in v: \n",
    "            new_list.append(note)\n",
    "    new_dict[k] = new_list"
   ]
  },
  {
   "cell_type": "code",
   "execution_count": 72,
   "id": "bc6eaed5",
   "metadata": {
    "scrolled": false
   },
   "outputs": [],
   "source": [
    "def give_recommendation(category_dictionary, fragrances_df): \n",
    "    \n",
    "    #for use later, get cosine similarity between two lists of strings\n",
    "    def cosine_sim(a,b): #a and b are lists\n",
    "        a_join = ' '.join(a)\n",
    "        b_join = ' '.join(b)\n",
    "\n",
    "        data = [a_join, b_join]\n",
    "        count_vectorizer = CountVectorizer()\n",
    "        vector_matrix = count_vectorizer.fit_transform(data)\n",
    "\n",
    "        cosine_similarity_matrix = cosine_similarity(vector_matrix)\n",
    "\n",
    "        return cosine_similarity_matrix[0][1] #similarity score\n",
    "             \n",
    "        \n",
    "    categories = list(category_dictionary.keys()) #all possible categories\n",
    "    total_categories = len(categories)\n",
    "    \n",
    "    ##give the user their options:\n",
    "    print('Categories:')\n",
    "    for i in range(total_categories): \n",
    "        print(str(i + 1) + '. ' + categories[i])\n",
    "    ##get the user's input, make sure it is a valid input    \n",
    "    category_choice = int(input(f'Please choose a category from the above (1-{str(total_categories)}): '))\n",
    "    while category_choice not in range(1, total_categories + 1): \n",
    "        category_choice = int(input('Entry not valid, please enter one of the above categories: '))\n",
    "    \n",
    "    category_choice = categories[category_choice - 1]\n",
    "    ##Get the potential values for the category (ie, the values for the category) \n",
    "    category_values = category_dictionary[category_choice]\n",
    "    \n",
    "    ##give the user the values to chose from: \n",
    "    print('\\n' + category_choice + ' fragrance notes:')\n",
    "    for v in range(len(category_values)): \n",
    "        print(str(v + 1) + '. ' + category_values[v])\n",
    "        \n",
    "    note_choice = int(input(f'Please choose a fragrance note from above (1-{str(len(category_values))}): '))\n",
    "    while note_choice not in range(1, len(category_values) + 1): \n",
    "        note_choice = int(input('Entry not valid, please enter one of the above'))\n",
    "        \n",
    "    note_choice_1 = category_values[note_choice -1] #the name of the choice chosen by the user\n",
    "    \n",
    "    ##Keep the note choice (and any subsequent choices) in a list: \n",
    "    chosen_notes_list = [note_choice_1]\n",
    "    \n",
    "    ##Ask user if they would like to add another note, validate the input:\n",
    "    another_note = input('Would you like to add another note? y/n: ')\n",
    "    while another_note not in ['y', 'n']:\n",
    "        another_note = input('Input invalid. Would you like to add another note? y/n (lowercase): ')\n",
    "    \n",
    "    ##if the user wants to add more, let them go through the above again. Keep a limit of 3 more inputs\n",
    "    if another_note == 'y': \n",
    "        limit = 0 \n",
    "        while limit < 3: \n",
    "            print('Categories:')\n",
    "            for i in range(total_categories): \n",
    "                print(str(i + 1) + '. ' + categories[i])\n",
    "            ##get the user's input, make sure it is a valid input    \n",
    "            category_choice = int(input(f'Please choose a category from the above (1-{str(total_categories)}): '))\n",
    "            while category_choice not in range(1, total_categories + 1): \n",
    "                category_choice = int(input('Entry not valid, please enter one of the above categories: '))\n",
    "\n",
    "            category_choice = categories[category_choice - 1]\n",
    "            ##Get the potential values for the category (ie, the values for the category) \n",
    "            category_values = category_dictionary[category_choice]\n",
    "\n",
    "            ##give the user the values to chose from: \n",
    "            print('\\n' + category_choice + ' fragrance notes:')\n",
    "            for v in range(len(category_values)): \n",
    "                print(str(v + 1) + '. ' + category_values[v])\n",
    "\n",
    "            note_choice = int(input(f'\\nPlease choose a fragrance note from above (1-{str(len(category_values))}): '))\n",
    "            while note_choice not in range(1, len(category_values) + 1): \n",
    "                note_choice = int(input('\\nEntry not valid, please enter one of the above'))\n",
    "\n",
    "            note_choice_x = category_values[note_choice -1] #the name of the choice chosen by the user\n",
    "\n",
    "            ##Keep the note choice (and any subsequent choices) in a list: \n",
    "            chosen_notes_list.append(note_choice_x)\n",
    "            \n",
    "            limit += 1\n",
    "            \n",
    "            if limit < 3: #if the limit is still less than 3, ask again:\n",
    "                ##Ask user if they would like to add another note, validate the input:\n",
    "                another_note = input('\\nWould you like to add another note? y/n: ')\n",
    "                while another_note not in ['y', 'n']:\n",
    "                    another_note = input('Input invalid. Would you like to add another note? y/n: ')\n",
    "\n",
    "                if another_note == 'n': \n",
    "                    limit = 3\n",
    "                \n",
    "    ##now that I have a list of notes user wants, compare the list of notes to those in the dataframe\n",
    "    comparison_scores = []\n",
    "    \n",
    "    ##iterate through extracted_notes_list, compare it to the current list, put the score into comparison_scores\n",
    "    ###Use cosine_sim function defined above as the measure of similarity\n",
    "    \n",
    "    extracted_notes = fragrances_df['extracted_list'].to_list()\n",
    "    new_extracted = []\n",
    "    for notes in extracted_notes:\n",
    "        new_notes = [n.lower().strip() for n in notes]\n",
    "        new_extracted.append(new_notes)\n",
    "    \n",
    "    for notes_list in new_extracted:\n",
    "        cosine_sim_score = cosine_sim(notes_list, chosen_notes_list)\n",
    "        comparison_scores.append(round(cosine_sim_score, 3))\n",
    "        \n",
    "    ##make comparison_scores a new column: \n",
    "    fragrances_df['cosine_sim_score'] = comparison_scores\n",
    "    \n",
    "    ##Now, sort the df by cosine_sim_score descending, output the top 3 names: \n",
    "    sorted_df = fragrances_df.sort_values(by = ['cosine_sim_score'], ascending = False)\n",
    "    sorted_df = sorted_df[sorted_df['cosine_sim_score'] > 0.23]\n",
    "    names = sorted_df['Name'].to_list()\n",
    "    brands = sorted_df['Brand'].to_list()\n",
    "    scores = sorted_df['cosine_sim_score'].to_list()\n",
    "    notes = sorted_df['extracted_notes'].to_list()\n",
    "    sorted_df['full_name'] = sorted_df['Name'] + ' by ' + sorted_df['Brand']\n",
    "    total_name = sorted_df['full_name'].to_list()\n",
    "    \n",
    "    brand_and_name = []\n",
    "    for i in range(len(sorted_df)):\n",
    "        full_name = f'{names[i]} by {brands[i]},  \\nNOTES: {notes[i]}, \\nSCORE: {scores[i]} \\n'\n",
    "        brand_and_name.append(full_name)\n",
    "        \n",
    "    ##Give top n outputs (will set n = 5 for now)\n",
    "    n = 5\n",
    "    recommendations = brand_and_name[:n]\n",
    "    print('\\nYour Recommendations (SCORE closer to 1 = closer to preferences): ')\n",
    "    #print(brand_and_name[:n])\n",
    "    i = 1\n",
    "    for rec in recommendations: \n",
    "        print(f'{str(i)}. ' + rec)\n",
    "        i += 1\n",
    "    \n",
    "    give_feedback = input('Would you like to give feedback on any of these perfumes? y/n: ')\n",
    "    while give_feedback not in ['y', 'Y', 'n', 'N']:\n",
    "        give_feedback = input('INPUT INVALID. Would you like to give feedback on any of these perfumes? y/n: ')\n",
    "        \n",
    "    if give_feedback in ['n', 'N']:\n",
    "        return 'We hope you enjoy your recommendations!'\n",
    "    \n",
    "    else: #if user wants to give feedback:\n",
    "        which_fragrance_num = input('Which fragrance would you like to give feedback for? Please enter 1 - 5 to choose: ')\n",
    "        while int(which_fragrance_num) not in range(1, n + 1):\n",
    "            which_fragrance_num = input(f'ENTRY INVALID. Please choose a fragrance, 1 - {str(n)}: ')\n",
    "            \n",
    "        which_fragrance_num = int(which_fragrance_num) - 1 #this will be the index to grab the particular fragrance\n",
    "        ### Things to do: \n",
    "        ### Open the json feedback file, turn into df\n",
    "        with open('fragrance_feedback.json') as frags_feedback: \n",
    "            frag_fb = json.load(frags_feedback)\n",
    "        frag_fb_df = pd.DataFrame({k:pd.Series(v) for k,v in frag_fb.items()})\n",
    "        \n",
    "        ### get the input (feedback) for the fragrance\n",
    "        ### Using the which_fragrance_num, get the name of the fragrance (in 'Name' by 'Brand')\n",
    "        chosen_frag = total_name[which_fragrance_num] #gives the full name; will be used to input feedback \n",
    "        ### Name of fragrance will be used as the key of the json file dict ^^\n",
    "        cols = list(frag_fb_df.columns)\n",
    "        chosen_col = chosen_frag\n",
    "        temp_dict = {}\n",
    "        for col in cols: \n",
    "            if col == 'ID': \n",
    "                temp_dict[col]  = random.randint(1, 10000000)\n",
    "            elif col == chosen_col: \n",
    "                user_feedback = input('Input feedback: ')\n",
    "                temp_dict[col] = user_feedback\n",
    "            else: \n",
    "                temp_dict[col] = np.nan\n",
    "        new_df = frag_fb_df.append(temp_dict, ignore_index = True)\n",
    "        new_df_dict = new_df.to_dict()\n",
    "        \n",
    "        ###Then finally save the feedback as the same name json file as before\n",
    "        with open('fragrance_feedback.json', 'w') as new_fb:\n",
    "            json.dump(new_df_dict, new_fb)\n",
    "            \n",
    "        print('Thank you for your feedback!')\n",
    "        \n",
    "        \n",
    "        #return which_fragrance_num\n",
    "        return 'We hope you enjoy your recommendations!'\n",
    "        #return chosen_frag, cols\n",
    "\n",
    "    \n",
    "   "
   ]
  },
  {
   "cell_type": "code",
   "execution_count": 73,
   "id": "e20324ea",
   "metadata": {
    "scrolled": false
   },
   "outputs": [
    {
     "name": "stdout",
     "output_type": "stream",
     "text": [
      "Categories:\n",
      "1. citrus\n",
      "2. fruit/vegetable\n",
      "3. nut\n",
      "4. flowers\n",
      "5. white flowers\n",
      "6. greens/herbs/fougeres\n",
      "7. spice\n",
      "8. sweet/gourmand\n",
      "9. wood/moss\n",
      "10. resins/balsams\n",
      "11. musk/amber/animalic\n",
      "12. beverages\n",
      "13. natural/synthetic/unusual/popular/weird\n",
      "Please choose a category from the above (1-13): 1\n",
      "\n",
      "citrus fragrance notes:\n",
      "1. tangerine\n",
      "2. neroli\n",
      "3. lemon\n",
      "4. lime\n",
      "5. bergamot\n",
      "6. orange\n",
      "7. grapefruit\n",
      "8. petitgrain\n",
      "9. yuzu\n",
      "10. clementine\n",
      "11. bitter orange\n",
      "12. citron\n",
      "13. lemon verbena\n",
      "14. bigarade\n",
      "15. blood orange\n",
      "16. mandarin orange\n",
      "17. mandora\n",
      "18. pomelo\n",
      "19. lemongrass\n",
      "20. litsea cubeba\n",
      "21. lemon balm\n",
      "22. citruses\n",
      "23. lemon zest\n",
      "24. chinotto\n",
      "25. lemon tree\n",
      "Please choose a fragrance note from above (1-25): 6\n",
      "Would you like to add another note? y/n: y\n",
      "Categories:\n",
      "1. citrus\n",
      "2. fruit/vegetable\n",
      "3. nut\n",
      "4. flowers\n",
      "5. white flowers\n",
      "6. greens/herbs/fougeres\n",
      "7. spice\n",
      "8. sweet/gourmand\n",
      "9. wood/moss\n",
      "10. resins/balsams\n",
      "11. musk/amber/animalic\n",
      "12. beverages\n",
      "13. natural/synthetic/unusual/popular/weird\n",
      "Please choose a category from the above (1-13): 7\n",
      "\n",
      "spice fragrance notes:\n",
      "1. coriander\n",
      "2. pink pepper\n",
      "3. vanilla\n",
      "4. nutmeg\n",
      "5. cinnamon\n",
      "6. turmeric\n",
      "7. caraway\n",
      "8. cardamom\n",
      "9. cumin\n",
      "10. saffron\n",
      "11. ginger\n",
      "12. cassia\n",
      "13. tonka bean\n",
      "14. pepper\n",
      "15. sichuan pepper\n",
      "16. cloves\n",
      "17. licorice\n",
      "18. pimento\n",
      "19. star anise\n",
      "20. anise\n",
      "21. coffee\n",
      "22. tamarind\n",
      "23. allspice\n",
      "24. bay leaf\n",
      "25. cacao pod\n",
      "26. water pepper\n",
      "27. spicy notes\n",
      "28. sesame\n",
      "29. fenugreek\n",
      "30. oriental notes\n",
      "31. fennel\n",
      "32. cinnamon leaf\n",
      "33. sumac\n",
      "\n",
      "Please choose a fragrance note from above (1-33): 3\n",
      "\n",
      "Would you like to add another note? y/n: y\n",
      "Categories:\n",
      "1. citrus\n",
      "2. fruit/vegetable\n",
      "3. nut\n",
      "4. flowers\n",
      "5. white flowers\n",
      "6. greens/herbs/fougeres\n",
      "7. spice\n",
      "8. sweet/gourmand\n",
      "9. wood/moss\n",
      "10. resins/balsams\n",
      "11. musk/amber/animalic\n",
      "12. beverages\n",
      "13. natural/synthetic/unusual/popular/weird\n",
      "Please choose a category from the above (1-13): 1\n",
      "\n",
      "citrus fragrance notes:\n",
      "1. tangerine\n",
      "2. neroli\n",
      "3. lemon\n",
      "4. lime\n",
      "5. bergamot\n",
      "6. orange\n",
      "7. grapefruit\n",
      "8. petitgrain\n",
      "9. yuzu\n",
      "10. clementine\n",
      "11. bitter orange\n",
      "12. citron\n",
      "13. lemon verbena\n",
      "14. bigarade\n",
      "15. blood orange\n",
      "16. mandarin orange\n",
      "17. mandora\n",
      "18. pomelo\n",
      "19. lemongrass\n",
      "20. litsea cubeba\n",
      "21. lemon balm\n",
      "22. citruses\n",
      "23. lemon zest\n",
      "24. chinotto\n",
      "25. lemon tree\n",
      "\n",
      "Please choose a fragrance note from above (1-25): 3\n",
      "\n",
      "Would you like to add another note? y/n: n\n",
      "\n",
      "Your Recommendations (SCORE closer to 1 = closer to preferences): \n",
      "1. Black V Parfum Extrait by Widian,  \n",
      "NOTES: Bitter Orange, Lemon, Orange, Pea, Peach, Rose, Orange Blossom, Tuberose, Bran, Cinnamon, Vanilla, Caramel, Cedar, \n",
      "SCORE: 0.63 \n",
      "\n",
      "2. Grand Neroli Cologne Absolue by Atelier Cologne,  \n",
      "NOTES: Bergamot, Lemon, Neroli, Orange, Orange Blossom, White Flowers, Galbanum, Vanilla, Amber, Musk, \n",
      "SCORE: 0.617 \n",
      "\n",
      "3. Bergamote Eau de toilette by The Different Company,  \n",
      "NOTES: Bergamot, Lemon, Orange, Rhubarb, Orange Blossom, Ginger, Gin, \n",
      "SCORE: 0.548 \n",
      "\n",
      "4. Battito d'ali Eau de Parfum by Profumum,  \n",
      "NOTES: Orange, Orange Blossom, Vanilla, Butter, Cake, Myrrh, Gin, \n",
      "SCORE: 0.548 \n",
      "\n",
      "5. Rose L'Orange Eau de Parfum by April Aromatics,  \n",
      "NOTES: Neroli, Orange, Rose, Orange Blossom, Vanilla, Sugar, Skin, \n",
      "SCORE: 0.548 \n",
      "\n",
      "Would you like to give feedback on any of these perfumes? y/n: y\n",
      "Which fragrance would you like to give feedback for? Please enter 1 - 5 to choose: 5\n",
      "Input feedback: A beautiful citrusy scent with a hint of rose and vanilla! Perfectly sweet but not overbearing. Would recommend!\n",
      "Thank you for your feedback!\n"
     ]
    },
    {
     "data": {
      "text/plain": [
       "'We hope you enjoy your recommendations!'"
      ]
     },
     "execution_count": 73,
     "metadata": {},
     "output_type": "execute_result"
    }
   ],
   "source": [
    "give_recommendation(new_dict, df) "
   ]
  },
  {
   "cell_type": "markdown",
   "id": "280b24b2",
   "metadata": {},
   "source": [
    "## Future Updates\n",
    "This notebook is a simple reccommender system, that has the potential to be further worked on to become more complex. For the future, I will accumulate review data that will be used, alongside the cosine similarity, to determine fragrance recommendations that users are more likely to enjoy. \n",
    "\n",
    "On a technical level, I will likely convert the function into a class, allowing for recommendations and feedback to be separate, and will also allow for users to come back later and add their feedback after trying one of their recommendations (they will be assigned an ID to input to give feedback, and their previous recommendations will be stored). In addition to this, I plan on adding into a new database of fragrances, so there will be more fragrances that could be recommended. "
   ]
  }
 ],
 "metadata": {
  "kernelspec": {
   "display_name": "Python 3 (ipykernel)",
   "language": "python",
   "name": "python3"
  },
  "language_info": {
   "codemirror_mode": {
    "name": "ipython",
    "version": 3
   },
   "file_extension": ".py",
   "mimetype": "text/x-python",
   "name": "python",
   "nbconvert_exporter": "python",
   "pygments_lexer": "ipython3",
   "version": "3.9.7"
  }
 },
 "nbformat": 4,
 "nbformat_minor": 5
}
